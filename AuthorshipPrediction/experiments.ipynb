{
 "cells": [
  {
   "cell_type": "code",
   "execution_count": 1,
   "metadata": {},
   "outputs": [],
   "source": [
    "import pickle\n",
    "import pandas as pd\n",
    "import numpy as np\n",
    "from tqdm import tqdm"
   ]
  },
  {
   "cell_type": "code",
   "execution_count": 2,
   "metadata": {},
   "outputs": [],
   "source": [
    "with open(\"../out/gutenberg_chunked/test01_embeddings_20240109_153150.pickle\", \"rb\") as f:\n",
    "    data_raw = pickle.load(f)\n",
    "\n",
    "datasize = 10000\n",
    "\n",
    "# select 10000 datapoints randomly \n",
    "\n",
    "#np.random.seed(42)\n",
    "#random_index = np.random.choice(len(data_raw), datasize, replace=False)\n",
    "\n",
    "#data_raw = [data_raw[i] for i in tqdm(random_index)]\n",
    "\n",
    "data_raw = data_raw[:datasize]\n"
   ]
  },
  {
   "cell_type": "code",
   "execution_count": 3,
   "metadata": {},
   "outputs": [],
   "source": [
    "embeddings_lis = [elem[\"embedding\"] for elem in data_raw]\n",
    "authors = [elem[\"metadata\"][\"author\"] for elem in data_raw]\n",
    "\n",
    "del data_raw"
   ]
  },
  {
   "cell_type": "code",
   "execution_count": 4,
   "metadata": {},
   "outputs": [],
   "source": [
    "df = pd.DataFrame(embeddings_lis)\n",
    "df[\"author\"] = authors\n",
    "\n",
    "del embeddings_lis\n",
    "del authors"
   ]
  },
  {
   "cell_type": "code",
   "execution_count": 5,
   "metadata": {},
   "outputs": [],
   "source": [
    "train_data = df.sample(frac=0.8, random_state=0)\n",
    "test_data = df.drop(train_data.index)"
   ]
  },
  {
   "cell_type": "code",
   "execution_count": 6,
   "metadata": {},
   "outputs": [
    {
     "name": "stderr",
     "output_type": "stream",
     "text": [
      "c:\\Users\\arik_\\Documents\\Dokumente\\Studium\\Master\\DataSecurity\\EmbeddingAttacks\\.venv\\lib\\site-packages\\tqdm\\auto.py:21: TqdmWarning: IProgress not found. Please update jupyter and ipywidgets. See https://ipywidgets.readthedocs.io/en/stable/user_install.html\n",
      "  from .autonotebook import tqdm as notebook_tqdm\n"
     ]
    }
   ],
   "source": [
    "from autogluon.tabular import TabularDataset, TabularPredictor"
   ]
  },
  {
   "cell_type": "code",
   "execution_count": 7,
   "metadata": {},
   "outputs": [
    {
     "data": {
      "text/plain": [
       "author\n",
       "Shakespeare, William             4827\n",
       "Dante Alighieri                  2468\n",
       "Wells, H. G. (Herbert George)     370\n",
       "Parkman, Francis                  189\n",
       "Bower, B. M.                      146\n",
       "Name: author, dtype: int64"
      ]
     },
     "execution_count": 7,
     "metadata": {},
     "output_type": "execute_result"
    }
   ],
   "source": [
    "train_data[\"author\"].groupby(train_data[\"author\"]).count().sort_values(ascending=False)"
   ]
  },
  {
   "cell_type": "code",
   "execution_count": 10,
   "metadata": {},
   "outputs": [
    {
     "data": {
      "text/plain": [
       "author\n",
       "Shakespeare, William             1214\n",
       "Dante Alighieri                   609\n",
       "Wells, H. G. (Herbert George)      84\n",
       "Parkman, Francis                   54\n",
       "Bower, B. M.                       39\n",
       "Name: author, dtype: int64"
      ]
     },
     "execution_count": 10,
     "metadata": {},
     "output_type": "execute_result"
    }
   ],
   "source": [
    "test_data[\"author\"].groupby(test_data[\"author\"]).count().sort_values(ascending=False)"
   ]
  },
  {
   "cell_type": "code",
   "execution_count": 11,
   "metadata": {},
   "outputs": [
    {
     "name": "stderr",
     "output_type": "stream",
     "text": [
      "No path specified. Models will be saved in: \"AutogluonModels\\ag-20240109_162433\"\n",
      "Presets specified: ['medium_quality']\n",
      "Beginning AutoGluon training ... Time limit = 300s\n",
      "AutoGluon will save models to \"AutogluonModels\\ag-20240109_162433\"\n",
      "=================== System Info ===================\n",
      "AutoGluon Version:  1.0.0\n",
      "Python Version:     3.10.11\n",
      "Operating System:   Windows\n",
      "Platform Machine:   AMD64\n",
      "Platform Version:   10.0.22621\n",
      "CPU Count:          8\n",
      "Memory Avail:       7.71 GB / 15.71 GB (49.1%)\n",
      "Disk Space Avail:   32.97 GB / 474.72 GB (6.9%)\n",
      "===================================================\n",
      "Train Data Rows:    8000\n",
      "Train Data Columns: 1536\n",
      "Label Column:       author\n",
      "Problem Type:       multiclass\n",
      "Preprocessing data ...\n",
      "Train Data Class Count: 5\n",
      "Using Feature Generators to preprocess the data ...\n",
      "Fitting AutoMLPipelineFeatureGenerator...\n",
      "\tAvailable Memory:                    7880.92 MB\n",
      "\tTrain Data (Original)  Memory Usage: 93.75 MB (1.2% of available memory)\n",
      "\tInferring data type of each feature based on column values. Set feature_metadata_in to manually specify special dtypes of the features.\n",
      "\tStage 1 Generators:\n",
      "\t\tFitting AsTypeFeatureGenerator...\n",
      "\tStage 2 Generators:\n",
      "\t\tFitting FillNaFeatureGenerator...\n",
      "\tStage 3 Generators:\n",
      "\t\tFitting IdentityFeatureGenerator...\n",
      "\tStage 4 Generators:\n",
      "\t\tFitting DropUniqueFeatureGenerator...\n",
      "\tStage 5 Generators:\n",
      "\t\tFitting DropDuplicatesFeatureGenerator...\n"
     ]
    }
   ],
   "source": [
    "predictor = TabularPredictor(label='author', problem_type='multiclass')\n",
    "predictor.fit(train_data, time_limit=60*5, presets = 'medium_quality')\n"
   ]
  },
  {
   "cell_type": "code",
   "execution_count": null,
   "metadata": {},
   "outputs": [
    {
     "name": "stderr",
     "output_type": "stream",
     "text": [
      "Evaluation: accuracy on test data: 0.978\n",
      "Evaluations on test data:\n",
      "{\n",
      "    \"accuracy\": 0.978,\n",
      "    \"balanced_accuracy\": 0.9674345409220146,\n",
      "    \"mcc\": 0.9590837491593869\n",
      "}\n"
     ]
    },
    {
     "data": {
      "text/plain": [
       "{'accuracy': 0.978,\n",
       " 'balanced_accuracy': 0.9674345409220146,\n",
       " 'mcc': 0.9590837491593869}"
      ]
     },
     "execution_count": 19,
     "metadata": {},
     "output_type": "execute_result"
    }
   ],
   "source": [
    "predictor.evaluate(test_data, silent=False)"
   ]
  }
 ],
 "metadata": {
  "kernelspec": {
   "display_name": ".venv",
   "language": "python",
   "name": "python3"
  },
  "language_info": {
   "codemirror_mode": {
    "name": "ipython",
    "version": 3
   },
   "file_extension": ".py",
   "mimetype": "text/x-python",
   "name": "python",
   "nbconvert_exporter": "python",
   "pygments_lexer": "ipython3",
   "version": "3.10.11"
  }
 },
 "nbformat": 4,
 "nbformat_minor": 2
}
