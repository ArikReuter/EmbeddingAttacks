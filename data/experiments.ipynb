{
 "cells": [
  {
   "cell_type": "code",
   "execution_count": 15,
   "outputs": [],
   "source": [
    "import pandas as pd\n",
    "import numpy as np\n",
    "\n",
    "import os"
   ],
   "metadata": {
    "collapsed": false,
    "ExecuteTime": {
     "end_time": "2024-01-08T16:08:22.762625700Z",
     "start_time": "2024-01-08T16:08:22.730625600Z"
    }
   },
   "id": "6316df7d66fb592"
  },
  {
   "cell_type": "markdown",
   "source": [
    "# Load metadata"
   ],
   "metadata": {
    "collapsed": false
   },
   "id": "89abb54ce48dcc2"
  },
  {
   "cell_type": "code",
   "execution_count": 16,
   "outputs": [],
   "source": [
    "nl = \"\\n\""
   ],
   "metadata": {
    "collapsed": false,
    "ExecuteTime": {
     "end_time": "2024-01-08T16:08:22.818763400Z",
     "start_time": "2024-01-08T16:08:22.748624800Z"
    }
   },
   "id": "4044ffa5756dbdf8"
  },
  {
   "cell_type": "code",
   "execution_count": 17,
   "outputs": [],
   "source": [
    "metadata = pd.read_csv(\n",
    "    os.path.join(\n",
    "        os.path.abspath(\"\"),\n",
    "        \"gutenberg\",\n",
    "        \"SPGC_metadata_20180718.csv\"\n",
    "    ), \n",
    "    index_col=\"id\"\n",
    ")"
   ],
   "metadata": {
    "collapsed": false,
    "ExecuteTime": {
     "end_time": "2024-01-08T16:08:22.944782100Z",
     "start_time": "2024-01-08T16:08:22.762625700Z"
    }
   },
   "id": "4caa5847b574efa6"
  },
  {
   "cell_type": "code",
   "execution_count": 18,
   "outputs": [],
   "source": [
    "metadata = metadata[\n",
    "    (metadata[\"language\"] == \"['en']\")\n",
    "][[\"title\", \"author\"]].dropna()"
   ],
   "metadata": {
    "collapsed": false,
    "ExecuteTime": {
     "end_time": "2024-01-08T16:08:22.987047800Z",
     "start_time": "2024-01-08T16:08:22.947783Z"
    }
   },
   "id": "44969a3ceabfe235"
  },
  {
   "cell_type": "code",
   "execution_count": 19,
   "outputs": [],
   "source": [
    "# Due to memory limitations, we only use the first 1000 books. \n",
    "metadata = metadata.iloc[:1000]"
   ],
   "metadata": {
    "collapsed": false,
    "ExecuteTime": {
     "end_time": "2024-01-08T16:08:23.002662100Z",
     "start_time": "2024-01-08T16:08:22.978014500Z"
    }
   },
   "id": "d929b57c9a2f80ef"
  },
  {
   "cell_type": "code",
   "execution_count": 20,
   "outputs": [
    {
     "data": {
      "text/plain": "                                                    title  \\\nid                                                          \nPG1     The Declaration of Independence of the United ...   \nPG2     The United States Bill of Rights: The Ten Orig...   \nPG3                   John F. Kennedy's Inaugural Address   \nPG4     Lincoln's Gettysburg Address: Given November 1...   \nPG5                        The United States Constitution   \n...                                                   ...   \nPG1068         Personal Memoirs of U. S. Grant — Volume 2   \nPG1069                   Four Short Stories By Emile Zola   \nPG1074                                       The Sea-Wolf   \nPG1075                         The Strength of the Strong   \nPG1076                             The Wallet of Kai Lung   \n\n                                     author  \nid                                           \nPG1                       Jefferson, Thomas  \nPG2                           United States  \nPG3      Kennedy, John F. (John Fitzgerald)  \nPG4                        Lincoln, Abraham  \nPG5                           United States  \n...                                     ...  \nPG1068  Grant, Ulysses S. (Ulysses Simpson)  \nPG1069                          Zola, Émile  \nPG1074                         London, Jack  \nPG1075                         London, Jack  \nPG1076                       Bramah, Ernest  \n\n[1000 rows x 2 columns]",
      "text/html": "<div>\n<style scoped>\n    .dataframe tbody tr th:only-of-type {\n        vertical-align: middle;\n    }\n\n    .dataframe tbody tr th {\n        vertical-align: top;\n    }\n\n    .dataframe thead th {\n        text-align: right;\n    }\n</style>\n<table border=\"1\" class=\"dataframe\">\n  <thead>\n    <tr style=\"text-align: right;\">\n      <th></th>\n      <th>title</th>\n      <th>author</th>\n    </tr>\n    <tr>\n      <th>id</th>\n      <th></th>\n      <th></th>\n    </tr>\n  </thead>\n  <tbody>\n    <tr>\n      <th>PG1</th>\n      <td>The Declaration of Independence of the United ...</td>\n      <td>Jefferson, Thomas</td>\n    </tr>\n    <tr>\n      <th>PG2</th>\n      <td>The United States Bill of Rights: The Ten Orig...</td>\n      <td>United States</td>\n    </tr>\n    <tr>\n      <th>PG3</th>\n      <td>John F. Kennedy's Inaugural Address</td>\n      <td>Kennedy, John F. (John Fitzgerald)</td>\n    </tr>\n    <tr>\n      <th>PG4</th>\n      <td>Lincoln's Gettysburg Address: Given November 1...</td>\n      <td>Lincoln, Abraham</td>\n    </tr>\n    <tr>\n      <th>PG5</th>\n      <td>The United States Constitution</td>\n      <td>United States</td>\n    </tr>\n    <tr>\n      <th>...</th>\n      <td>...</td>\n      <td>...</td>\n    </tr>\n    <tr>\n      <th>PG1068</th>\n      <td>Personal Memoirs of U. S. Grant — Volume 2</td>\n      <td>Grant, Ulysses S. (Ulysses Simpson)</td>\n    </tr>\n    <tr>\n      <th>PG1069</th>\n      <td>Four Short Stories By Emile Zola</td>\n      <td>Zola, Émile</td>\n    </tr>\n    <tr>\n      <th>PG1074</th>\n      <td>The Sea-Wolf</td>\n      <td>London, Jack</td>\n    </tr>\n    <tr>\n      <th>PG1075</th>\n      <td>The Strength of the Strong</td>\n      <td>London, Jack</td>\n    </tr>\n    <tr>\n      <th>PG1076</th>\n      <td>The Wallet of Kai Lung</td>\n      <td>Bramah, Ernest</td>\n    </tr>\n  </tbody>\n</table>\n<p>1000 rows × 2 columns</p>\n</div>"
     },
     "execution_count": 20,
     "metadata": {},
     "output_type": "execute_result"
    }
   ],
   "source": [
    "metadata"
   ],
   "metadata": {
    "collapsed": false,
    "ExecuteTime": {
     "end_time": "2024-01-08T16:08:23.025658500Z",
     "start_time": "2024-01-08T16:08:22.992046700Z"
    }
   },
   "id": "a670c03d328cbd52"
  },
  {
   "cell_type": "markdown",
   "source": [
    "# Load text"
   ],
   "metadata": {
    "collapsed": false
   },
   "id": "7c15fc4280c5936b"
  },
  {
   "cell_type": "code",
   "execution_count": 21,
   "outputs": [
    {
     "name": "stdout",
     "output_type": "stream",
     "text": [
      "Found 55905 files. \n",
      "First 5 file(s): \n",
      "['C:\\\\Users\\\\Aleks Lyubenov\\\\Documents\\\\[LMU] Classes\\\\[3] Winter 2023\\\\Data Security\\\\Project\\\\EmbeddingAttacks\\\\data\\\\gutenberg\\\\SPGC_tokens_20180718\\\\PG10000_tokens.txt', 'C:\\\\Users\\\\Aleks Lyubenov\\\\Documents\\\\[LMU] Classes\\\\[3] Winter 2023\\\\Data Security\\\\Project\\\\EmbeddingAttacks\\\\data\\\\gutenberg\\\\SPGC_tokens_20180718\\\\PG10001_tokens.txt', 'C:\\\\Users\\\\Aleks Lyubenov\\\\Documents\\\\[LMU] Classes\\\\[3] Winter 2023\\\\Data Security\\\\Project\\\\EmbeddingAttacks\\\\data\\\\gutenberg\\\\SPGC_tokens_20180718\\\\PG10002_tokens.txt', 'C:\\\\Users\\\\Aleks Lyubenov\\\\Documents\\\\[LMU] Classes\\\\[3] Winter 2023\\\\Data Security\\\\Project\\\\EmbeddingAttacks\\\\data\\\\gutenberg\\\\SPGC_tokens_20180718\\\\PG10003_tokens.txt', 'C:\\\\Users\\\\Aleks Lyubenov\\\\Documents\\\\[LMU] Classes\\\\[3] Winter 2023\\\\Data Security\\\\Project\\\\EmbeddingAttacks\\\\data\\\\gutenberg\\\\SPGC_tokens_20180718\\\\PG10004_tokens.txt']\n"
     ]
    }
   ],
   "source": [
    "# Get all files in the directory and subdirectories that end with .txt\n",
    "files = [\n",
    "    os.path.join(root, name)\n",
    "    for root, dirs, files in os.walk(\n",
    "        os.path.join(\n",
    "            os.path.abspath(\"\"),\n",
    "            \"gutenberg\",\n",
    "            \"SPGC_tokens_20180718\"\n",
    "        )\n",
    "    )\n",
    "    for name in files\n",
    "    if name.endswith(\".txt\")\n",
    "]\n",
    "\n",
    "k = 5\n",
    "print(\n",
    "    f\"Found {len(files)} files. {nl}\"\n",
    "    f\"First {k} file(s): {nl}{files[:k]}\"\n",
    ")"
   ],
   "metadata": {
    "collapsed": false,
    "ExecuteTime": {
     "end_time": "2024-01-08T16:08:23.246158Z",
     "start_time": "2024-01-08T16:08:23.009660200Z"
    }
   },
   "id": "f590e861e7604392"
  },
  {
   "cell_type": "code",
   "execution_count": 27,
   "outputs": [],
   "source": [
    "texts = pd.DataFrame(\n",
    "    [\n",
    "        [os.path.basename(file).split(\".\")[0], open(file, \"r\", encoding=\"utf8\").read().split(\"\\n\")]\n",
    "        for file in files\n",
    "        if os.path.basename(file).split(\".\")[0].replace(\"_tokens\", \"\") in metadata.index\n",
    "    ],\n",
    "    columns=[\"id\", \"text\"]\n",
    ")\n",
    "\n",
    "texts[\"id\"] = texts[\"id\"].apply(lambda x: x.replace(\"_tokens\", \"\"))\n",
    "texts = texts.set_index(\"id\")\n",
    "\n",
    "# Add author to text. \n",
    "texts = texts.join(metadata[\"author\"], how=\"inner\")"
   ],
   "metadata": {
    "collapsed": false,
    "ExecuteTime": {
     "end_time": "2024-01-08T16:10:14.336913100Z",
     "start_time": "2024-01-08T16:10:06.160210500Z"
    }
   },
   "id": "ab7a73a52f6cd204"
  },
  {
   "cell_type": "code",
   "execution_count": 28,
   "outputs": [
    {
     "data": {
      "text/plain": "                                                     text  \\\nid                                                          \nPG1001  [the, divine, comedy, of, dante, alighieri, tr...   \nPG1002  [the, divine, comedy, of, dante, alighieri, tr...   \nPG1003  [the, divine, comedy, of, dante, alighieri, tr...   \nPG1004  [the, divine, comedy, of, dante, alighieri, tr...   \nPG1005  [hell, or, the, inferno, from, the, divine, co...   \n...                                                   ...   \nPG994   [riders, to, the, sea, a, play, in, one, act, ...   \nPG995   [ballads, of, a, bohemian, by, robert, service...   \nPG996   [don, quixote, complete, by, miguel, de, cerva...   \nPG99    [here, are, several, articles, by, frederick, ...   \nPG9     [all, of, the, original, project, gutenberg, e...   \n\n                                     author  \nid                                           \nPG1001                      Dante Alighieri  \nPG1002                      Dante Alighieri  \nPG1003                      Dante Alighieri  \nPG1004                      Dante Alighieri  \nPG1005                      Dante Alighieri  \n...                                     ...  \nPG994        Synge, J. M. (John Millington)  \nPG995   Service, Robert W. (Robert William)  \nPG996         Cervantes Saavedra, Miguel de  \nPG99                    Douglass, Frederick  \nPG9                        Lincoln, Abraham  \n\n[946 rows x 2 columns]",
      "text/html": "<div>\n<style scoped>\n    .dataframe tbody tr th:only-of-type {\n        vertical-align: middle;\n    }\n\n    .dataframe tbody tr th {\n        vertical-align: top;\n    }\n\n    .dataframe thead th {\n        text-align: right;\n    }\n</style>\n<table border=\"1\" class=\"dataframe\">\n  <thead>\n    <tr style=\"text-align: right;\">\n      <th></th>\n      <th>text</th>\n      <th>author</th>\n    </tr>\n    <tr>\n      <th>id</th>\n      <th></th>\n      <th></th>\n    </tr>\n  </thead>\n  <tbody>\n    <tr>\n      <th>PG1001</th>\n      <td>[the, divine, comedy, of, dante, alighieri, tr...</td>\n      <td>Dante Alighieri</td>\n    </tr>\n    <tr>\n      <th>PG1002</th>\n      <td>[the, divine, comedy, of, dante, alighieri, tr...</td>\n      <td>Dante Alighieri</td>\n    </tr>\n    <tr>\n      <th>PG1003</th>\n      <td>[the, divine, comedy, of, dante, alighieri, tr...</td>\n      <td>Dante Alighieri</td>\n    </tr>\n    <tr>\n      <th>PG1004</th>\n      <td>[the, divine, comedy, of, dante, alighieri, tr...</td>\n      <td>Dante Alighieri</td>\n    </tr>\n    <tr>\n      <th>PG1005</th>\n      <td>[hell, or, the, inferno, from, the, divine, co...</td>\n      <td>Dante Alighieri</td>\n    </tr>\n    <tr>\n      <th>...</th>\n      <td>...</td>\n      <td>...</td>\n    </tr>\n    <tr>\n      <th>PG994</th>\n      <td>[riders, to, the, sea, a, play, in, one, act, ...</td>\n      <td>Synge, J. M. (John Millington)</td>\n    </tr>\n    <tr>\n      <th>PG995</th>\n      <td>[ballads, of, a, bohemian, by, robert, service...</td>\n      <td>Service, Robert W. (Robert William)</td>\n    </tr>\n    <tr>\n      <th>PG996</th>\n      <td>[don, quixote, complete, by, miguel, de, cerva...</td>\n      <td>Cervantes Saavedra, Miguel de</td>\n    </tr>\n    <tr>\n      <th>PG99</th>\n      <td>[here, are, several, articles, by, frederick, ...</td>\n      <td>Douglass, Frederick</td>\n    </tr>\n    <tr>\n      <th>PG9</th>\n      <td>[all, of, the, original, project, gutenberg, e...</td>\n      <td>Lincoln, Abraham</td>\n    </tr>\n  </tbody>\n</table>\n<p>946 rows × 2 columns</p>\n</div>"
     },
     "execution_count": 28,
     "metadata": {},
     "output_type": "execute_result"
    }
   ],
   "source": [
    "texts"
   ],
   "metadata": {
    "collapsed": false,
    "ExecuteTime": {
     "end_time": "2024-01-08T16:10:14.366130400Z",
     "start_time": "2024-01-08T16:10:14.348138400Z"
    }
   },
   "id": "99642794bd3fb51d"
  },
  {
   "cell_type": "markdown",
   "source": [
    "# Embeddings"
   ],
   "metadata": {
    "collapsed": false
   },
   "id": "514de23f684575e0"
  },
  {
   "cell_type": "code",
   "execution_count": 24,
   "outputs": [],
   "source": [
    "# TODO: Embed"
   ],
   "metadata": {
    "collapsed": false,
    "ExecuteTime": {
     "end_time": "2024-01-08T16:08:29.173230500Z",
     "start_time": "2024-01-08T16:08:29.143224900Z"
    }
   },
   "id": "6f7dc4b6d75a1f46"
  }
 ],
 "metadata": {
  "kernelspec": {
   "display_name": "Python 3",
   "language": "python",
   "name": "python3"
  },
  "language_info": {
   "codemirror_mode": {
    "name": "ipython",
    "version": 2
   },
   "file_extension": ".py",
   "mimetype": "text/x-python",
   "name": "python",
   "nbconvert_exporter": "python",
   "pygments_lexer": "ipython2",
   "version": "2.7.6"
  }
 },
 "nbformat": 4,
 "nbformat_minor": 5
}
