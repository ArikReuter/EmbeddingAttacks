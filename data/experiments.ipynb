{
 "cells": [
  {
   "cell_type": "code",
   "execution_count": 1,
   "outputs": [],
   "source": [
    "import pandas as pd\n",
    "import numpy as np\n",
    "\n",
    "import os"
   ],
   "metadata": {
    "collapsed": false,
    "ExecuteTime": {
     "end_time": "2024-01-08T17:49:03.460601700Z",
     "start_time": "2024-01-08T17:49:02.067629900Z"
    }
   },
   "id": "6316df7d66fb592"
  },
  {
   "cell_type": "markdown",
   "source": [
    "# Load metadata"
   ],
   "metadata": {
    "collapsed": false
   },
   "id": "89abb54ce48dcc2"
  },
  {
   "cell_type": "code",
   "execution_count": 2,
   "outputs": [],
   "source": [
    "nl = \"\\n\""
   ],
   "metadata": {
    "collapsed": false,
    "ExecuteTime": {
     "end_time": "2024-01-08T17:49:03.481735900Z",
     "start_time": "2024-01-08T17:49:03.462598800Z"
    }
   },
   "id": "4044ffa5756dbdf8"
  },
  {
   "cell_type": "code",
   "execution_count": 3,
   "outputs": [],
   "source": [
    "metadata = pd.read_csv(\n",
    "    os.path.join(\n",
    "        os.path.abspath(\"\"),\n",
    "        \"gutenberg\",\n",
    "        \"SPGC_metadata_20180718.csv\"\n",
    "    ), \n",
    "    index_col=\"id\"\n",
    ")"
   ],
   "metadata": {
    "collapsed": false,
    "ExecuteTime": {
     "end_time": "2024-01-08T17:49:03.753483500Z",
     "start_time": "2024-01-08T17:49:03.476650700Z"
    }
   },
   "id": "4caa5847b574efa6"
  },
  {
   "cell_type": "code",
   "execution_count": 4,
   "outputs": [],
   "source": [
    "metadata = metadata[\n",
    "    (metadata[\"language\"] == \"['en']\")\n",
    "][[\"title\", \"author\"]].dropna()"
   ],
   "metadata": {
    "collapsed": false,
    "ExecuteTime": {
     "end_time": "2024-01-08T17:49:03.804995600Z",
     "start_time": "2024-01-08T17:49:03.754984Z"
    }
   },
   "id": "44969a3ceabfe235"
  },
  {
   "cell_type": "code",
   "execution_count": 9,
   "outputs": [],
   "source": [
    "# Due to memory limitations, we only use the first 10000 books. \n",
    "length = 1000\n",
    "metadata = metadata.iloc[:length]"
   ],
   "metadata": {
    "collapsed": false,
    "ExecuteTime": {
     "end_time": "2024-01-08T17:53:40.500627700Z",
     "start_time": "2024-01-08T17:53:40.453882500Z"
    }
   },
   "id": "d929b57c9a2f80ef"
  },
  {
   "cell_type": "code",
   "execution_count": 10,
   "outputs": [
    {
     "data": {
      "text/plain": "                                                    title  \\\nid                                                          \nPG1     The Declaration of Independence of the United ...   \nPG2     The United States Bill of Rights: The Ten Orig...   \nPG3                   John F. Kennedy's Inaugural Address   \nPG4     Lincoln's Gettysburg Address: Given November 1...   \nPG5                        The United States Constitution   \n...                                                   ...   \nPG1068         Personal Memoirs of U. S. Grant — Volume 2   \nPG1069                   Four Short Stories By Emile Zola   \nPG1074                                       The Sea-Wolf   \nPG1075                         The Strength of the Strong   \nPG1076                             The Wallet of Kai Lung   \n\n                                     author  \nid                                           \nPG1                       Jefferson, Thomas  \nPG2                           United States  \nPG3      Kennedy, John F. (John Fitzgerald)  \nPG4                        Lincoln, Abraham  \nPG5                           United States  \n...                                     ...  \nPG1068  Grant, Ulysses S. (Ulysses Simpson)  \nPG1069                          Zola, Émile  \nPG1074                         London, Jack  \nPG1075                         London, Jack  \nPG1076                       Bramah, Ernest  \n\n[1000 rows x 2 columns]",
      "text/html": "<div>\n<style scoped>\n    .dataframe tbody tr th:only-of-type {\n        vertical-align: middle;\n    }\n\n    .dataframe tbody tr th {\n        vertical-align: top;\n    }\n\n    .dataframe thead th {\n        text-align: right;\n    }\n</style>\n<table border=\"1\" class=\"dataframe\">\n  <thead>\n    <tr style=\"text-align: right;\">\n      <th></th>\n      <th>title</th>\n      <th>author</th>\n    </tr>\n    <tr>\n      <th>id</th>\n      <th></th>\n      <th></th>\n    </tr>\n  </thead>\n  <tbody>\n    <tr>\n      <th>PG1</th>\n      <td>The Declaration of Independence of the United ...</td>\n      <td>Jefferson, Thomas</td>\n    </tr>\n    <tr>\n      <th>PG2</th>\n      <td>The United States Bill of Rights: The Ten Orig...</td>\n      <td>United States</td>\n    </tr>\n    <tr>\n      <th>PG3</th>\n      <td>John F. Kennedy's Inaugural Address</td>\n      <td>Kennedy, John F. (John Fitzgerald)</td>\n    </tr>\n    <tr>\n      <th>PG4</th>\n      <td>Lincoln's Gettysburg Address: Given November 1...</td>\n      <td>Lincoln, Abraham</td>\n    </tr>\n    <tr>\n      <th>PG5</th>\n      <td>The United States Constitution</td>\n      <td>United States</td>\n    </tr>\n    <tr>\n      <th>...</th>\n      <td>...</td>\n      <td>...</td>\n    </tr>\n    <tr>\n      <th>PG1068</th>\n      <td>Personal Memoirs of U. S. Grant — Volume 2</td>\n      <td>Grant, Ulysses S. (Ulysses Simpson)</td>\n    </tr>\n    <tr>\n      <th>PG1069</th>\n      <td>Four Short Stories By Emile Zola</td>\n      <td>Zola, Émile</td>\n    </tr>\n    <tr>\n      <th>PG1074</th>\n      <td>The Sea-Wolf</td>\n      <td>London, Jack</td>\n    </tr>\n    <tr>\n      <th>PG1075</th>\n      <td>The Strength of the Strong</td>\n      <td>London, Jack</td>\n    </tr>\n    <tr>\n      <th>PG1076</th>\n      <td>The Wallet of Kai Lung</td>\n      <td>Bramah, Ernest</td>\n    </tr>\n  </tbody>\n</table>\n<p>1000 rows × 2 columns</p>\n</div>"
     },
     "execution_count": 10,
     "metadata": {},
     "output_type": "execute_result"
    }
   ],
   "source": [
    "metadata"
   ],
   "metadata": {
    "collapsed": false,
    "ExecuteTime": {
     "end_time": "2024-01-08T17:53:40.528764800Z",
     "start_time": "2024-01-08T17:53:40.511666800Z"
    }
   },
   "id": "a670c03d328cbd52"
  },
  {
   "cell_type": "markdown",
   "source": [
    "# Load text"
   ],
   "metadata": {
    "collapsed": false
   },
   "id": "7c15fc4280c5936b"
  },
  {
   "cell_type": "code",
   "execution_count": 11,
   "outputs": [
    {
     "name": "stdout",
     "output_type": "stream",
     "text": [
      "Found 55905 files. \n"
     ]
    }
   ],
   "source": [
    "# Get all files in the directory and subdirectories that end with .txt\n",
    "files = [\n",
    "    os.path.join(root, name)\n",
    "    for root, dirs, files in os.walk(\n",
    "        os.path.join(\n",
    "            os.path.abspath(\"\"),\n",
    "            \"gutenberg\",\n",
    "            \"SPGC_tokens_20180718\"\n",
    "        )\n",
    "    )\n",
    "    for name in files\n",
    "    if name.endswith(\".txt\")\n",
    "]\n",
    "\n",
    "k = 5\n",
    "print(\n",
    "    f\"Found {len(files)} files. {nl}\"\n",
    "    # f\"First {k} file(s): {nl}{files[:k]}\"\n",
    ")"
   ],
   "metadata": {
    "collapsed": false,
    "ExecuteTime": {
     "end_time": "2024-01-08T17:53:42.544143300Z",
     "start_time": "2024-01-08T17:53:40.536775200Z"
    }
   },
   "id": "f590e861e7604392"
  },
  {
   "cell_type": "code",
   "execution_count": 12,
   "outputs": [],
   "source": [
    "texts = pd.DataFrame(\n",
    "    [\n",
    "        [os.path.basename(file).split(\".\")[0], open(file, \"r\", encoding=\"utf8\").read().split(\"\\n\")]\n",
    "        for file in files\n",
    "        if os.path.basename(file).split(\".\")[0].replace(\"_tokens\", \"\") in metadata.index\n",
    "    ],\n",
    "    columns=[\"id\", \"text\"]\n",
    ")\n",
    "\n",
    "texts[\"id\"] = texts[\"id\"].apply(lambda x: x.replace(\"_tokens\", \"\"))\n",
    "texts = texts.set_index(\"id\")\n",
    "\n",
    "# Add author to text. \n",
    "texts = texts.join(metadata[\"author\"], how=\"inner\")"
   ],
   "metadata": {
    "collapsed": false,
    "ExecuteTime": {
     "end_time": "2024-01-08T17:53:48.303906300Z",
     "start_time": "2024-01-08T17:53:42.551700500Z"
    }
   },
   "id": "ab7a73a52f6cd204"
  },
  {
   "cell_type": "code",
   "execution_count": 13,
   "outputs": [],
   "source": [
    "# texts"
   ],
   "metadata": {
    "collapsed": false,
    "ExecuteTime": {
     "end_time": "2024-01-08T17:53:48.318010900Z",
     "start_time": "2024-01-08T17:53:48.304904900Z"
    }
   },
   "id": "99642794bd3fb51d"
  },
  {
   "cell_type": "code",
   "execution_count": 14,
   "outputs": [],
   "source": [
    "# Save the texts to a csv file.\n",
    "texts.to_csv(\n",
    "    os.path.join(\n",
    "        os.path.abspath(\"\"),\n",
    "        f\"SPGC_texts_full_{length}_20180718.csv\"\n",
    "    )\n",
    ")"
   ],
   "metadata": {
    "collapsed": false,
    "ExecuteTime": {
     "end_time": "2024-01-08T17:54:01.575082Z",
     "start_time": "2024-01-08T17:53:48.318517100Z"
    }
   },
   "id": "6f7dc4b6d75a1f46"
  },
  {
   "cell_type": "code",
   "outputs": [],
   "source": [],
   "metadata": {
    "collapsed": false,
    "ExecuteTime": {
     "end_time": "2024-01-08T17:54:01.590892600Z",
     "start_time": "2024-01-08T17:54:01.575082Z"
    }
   },
   "id": "9023778bd5af8456",
   "execution_count": 14
  },
  {
   "cell_type": "code",
   "outputs": [],
   "source": [],
   "metadata": {
    "collapsed": false,
    "ExecuteTime": {
     "end_time": "2024-01-08T17:54:01.608810700Z",
     "start_time": "2024-01-08T17:54:01.591893800Z"
    }
   },
   "id": "253009d515fb14a0",
   "execution_count": 14
  }
 ],
 "metadata": {
  "kernelspec": {
   "display_name": "Python 3",
   "language": "python",
   "name": "python3"
  },
  "language_info": {
   "codemirror_mode": {
    "name": "ipython",
    "version": 2
   },
   "file_extension": ".py",
   "mimetype": "text/x-python",
   "name": "python",
   "nbconvert_exporter": "python",
   "pygments_lexer": "ipython2",
   "version": "2.7.6"
  }
 },
 "nbformat": 4,
 "nbformat_minor": 5
}
